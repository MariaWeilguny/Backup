{
 "cells": [
  {
   "cell_type": "code",
   "execution_count": 2,
   "metadata": {},
   "outputs": [],
   "source": [
    "# 1. Calculate the specific yield coefficients (C-mol) for all products. \n",
    "\n",
    "# Initial- and end values  \n",
    "glucose_init = 20 #g/L\n",
    "biomass_init = 0.2 #g DW yeast/ L\n",
    "ethanol_end = 10 #g/L\n",
    "biomass_end = 2.74 #g DW yeast/L\n",
    "glycerol_end = 1.54 #g/L\n",
    "\n",
    "# Molecular weights \n",
    "glucose_mw = 180.156 #g/mol\n",
    "ethanol_mw = 46.07 #g/mol\n",
    "glycerol_mw = 92.09382 #g/mol \n",
    "\n",
    "# Mw in C-mol\n",
    "glucose_mw_Cmol = glucose_mw/6 # g/Cmol\n",
    "ethanol_mw_Cmol = ethanol_mw/2 # g/Cmol\n",
    "glycerol_mw_Cmol = glycerol_mw/3 # g/Cmol\n",
    "biomass_mw_Cmol = 12.0107 + 1.8*1.00784 + 0.5*15.999 + 0.2*14.0067  #g/Cmol, from CH_(1.8)O_(0.5)N_(0.2) \n",
    "\n",
    "# C-mol concentrations of glucose and end products:\n",
    "glucose_init_Cmol = glucose_init / glucose_mw_Cmol # Cmol/L\n",
    "ethanol_end_Cmol = ethanol_end / ethanol_mw_Cmol # Cmol/L\n",
    "glycerol_end_Cmol = glycerol_end / glycerol_mw_Cmol # Cmol/L\n",
    "biomass_end_Cmol = biomass_end / biomass_mw_Cmol # Cmol/L\n",
    "\n",
    "# Specific yield coefficients \n",
    "Y_sx = biomass_end_Cmol/glucose_init_Cmol\n",
    "Y_se = ethanol_end_Cmol/glucose_init_Cmol\n",
    "Y_sg = glycerol_end_Cmol/glucose_init_Cmol\n",
    "\n",
    "\n",
    "#------------------------------------------------------------------------------------------\n",
    "\n",
    "# 2. Calculate the carbon balance.\n",
    "\n",
    "# 1 = Y_sx + Y_se + Y_sg\n",
    "# Carbon balance: 1 - Y_sx - Y_se - Y_sg\n",
    "\n",
    "carbon_balance = 1 - Y_sx - Y_se - Ysg # c-mol product / c-mol-Glc\n",
    "\n",
    "\n",
    "#------------------------------------------------------------------------------------------\n",
    "\n",
    "\n",
    "# 3. Assuming that CO2 is the only missing product, calculate how much CO2 was produced in the fermentation.\n",
    "\n",
    "# Glucose -> Y_xs biomass + Y_se ethanol + Y_sg glycerol + Y_sc CO2\n",
    "# 0.67 Cmol/L = 0.17*0.11 + 0.65*0.43 + 0.08*0.05 + Ysc CO2\n",
    "# 0.36 = Ysc CO2 = 0.105 CO2\n",
    "# 3.42 = CO2 \n",
    "\n",
    "# Assign your solution to the following variable (replace _ with your solution)\n",
    "co2_produced = _ # g/L\n",
    "\n",
    "\n",
    "\n",
    "\n",
    "\n"
   ]
  },
  {
   "cell_type": "code",
   "execution_count": null,
   "metadata": {},
   "outputs": [],
   "source": []
  },
  {
   "cell_type": "code",
   "execution_count": null,
   "metadata": {},
   "outputs": [],
   "source": []
  },
  {
   "cell_type": "code",
   "execution_count": null,
   "metadata": {},
   "outputs": [],
   "source": []
  }
 ],
 "metadata": {
  "kernelspec": {
   "display_name": "Python 3",
   "language": "python",
   "name": "python3"
  },
  "language_info": {
   "codemirror_mode": {
    "name": "ipython",
    "version": 3
   },
   "file_extension": ".py",
   "mimetype": "text/x-python",
   "name": "python",
   "nbconvert_exporter": "python",
   "pygments_lexer": "ipython3",
   "version": "3.8.5"
  }
 },
 "nbformat": 4,
 "nbformat_minor": 4
}
