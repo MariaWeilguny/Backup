{
 "cells": [
  {
   "cell_type": "code",
   "execution_count": null,
   "metadata": {},
   "outputs": [],
   "source": [
    "#1. Calculate the specific yield coefficients (C-mol) for all products. \n",
    "\n",
    "# Initial- and end values  \n",
    "glucose_init = 20 #g/L\n",
    "biomass_init = 0.2 #g DW yeast/ L\n",
    "ethanol_end = 10 #g/L\n",
    "biomass_end = 2.74 #g DW yeast/L\n",
    "glycerol_end = 1.54 #g/L\n",
    "\n",
    "# Molecular weights \n",
    "glucose_mw = 180.156 #g/mol\n",
    "ethanol_mw = 46.07 #g/mol\n",
    "glycerol_mw = 92.09382 #g/mol\n",
    "biomass_mw = 12.0107 + 1.8*1.00784 + 0.5*15.999 + 0.2*14.0067  #g/mol, from CH_(1.8)O_(0.5)N_(0.2)\n",
    "\n",
    "# Mol concentrations of glucose and end products:\n",
    "glucose_init_mol = glucose_init / glucose_mw # mol/L\n",
    "ethanol_end_mol = ethanol_end / ethanol_mw # mol/L\n",
    "glycerol_end_mol = glycerol_end / glycerol_mw # mol/L\n",
    "biomass_end_mol = biomass_end / biomass_mw # mol/L\n",
    "\n",
    "# In C-mol\n",
    "glucose_init_Cmol = glucose_init_mol/6 # Cmol/L\n",
    "ethanol_end_Cmol = ethanol_end_mol/2 # Cmol/L\n",
    "glycerol_end_Cmol = glycerol_end_mol/3 # Cmol/L\n",
    "biomass_end_Cmol = biomass_end_mol  # Cmol/L\n",
    "\n",
    "# Specific yield coefficients \n",
    "Y_sx = biomass_end_Cmol/glucose_init_Cmol\n",
    "Y_se = ethanol_end_Cmol/glucose_init_Cmo\n",
    "Y_sg = glycerol_end_Cmol/glucose_init_Cmol"
   ]
  }
 ],
 "metadata": {
  "kernelspec": {
   "display_name": "Python 3",
   "language": "python",
   "name": "python3"
  },
  "language_info": {
   "codemirror_mode": {
    "name": "ipython",
    "version": 3
   },
   "file_extension": ".py",
   "mimetype": "text/x-python",
   "name": "python",
   "nbconvert_exporter": "python",
   "pygments_lexer": "ipython3",
   "version": "3.8.5"
  }
 },
 "nbformat": 4,
 "nbformat_minor": 4
}
