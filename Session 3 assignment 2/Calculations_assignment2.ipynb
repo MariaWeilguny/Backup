{
 "cells": [
  {
   "cell_type": "code",
   "execution_count": 7,
   "metadata": {},
   "outputs": [
    {
     "name": "stdout",
     "output_type": "stream",
     "text": [
      "[2.  8.  5.5]\n"
     ]
    }
   ],
   "source": [
    "# Metabolic Flux Analysis - Assignment\n",
    "\n",
    "###### Ignore this\n",
    "import pytest\n",
    "import hashlib\n",
    "_ = 123456789  # just a wrong number, please ignore\n",
    "###### Stop ignoring\n",
    "\n",
    "import numpy as np\n",
    "\n",
    "# ----------------------------------------------------------------------------------\n",
    "# 1. Write down the stoichiometry matrix S for the model as a numpy array.\n",
    "# The order of the rows should correspond to A, B and C.\n",
    "# The order of the columns should correspond to v1-v6\n",
    "\n",
    "# replace [[]] with the stoichiometric matrix.\n",
    "S = np.array([[-1,-1,0,0,0,1],\n",
    "              [1,0,0,0,-1,0],\n",
    "              [0,1,-1,-1,0,0]])\n",
    "\n",
    "\n",
    "# ----------------------------------------------------------------------------------\n",
    "# 2. Calculate how many fluxes need to be measured (degrees of freedom).\n",
    "from numpy.linalg import matrix_rank\n",
    "\n",
    "# Degrees of freedom: Number of columns (n) minus the rank of the matrix\n",
    "n = S.shape[1]\n",
    "\n",
    "# Assign your solution to the following variable (replace _ with your solution;\n",
    "# cannot be just a number; should be a computation based on S)\n",
    "degrees_of_freedom = n - matrix_rank(S)\n",
    "# df = 3\n",
    "\n",
    "\n",
    "# ----------------------------------------------------------------------------------\n",
    "# 3. Based on measured fluxes v4 = 2.5, v5 = 2, and v6 = 10, calculate v1-v3.\n",
    "\n",
    "v4 = 2.5\n",
    "v5 = 2\n",
    "v6 = 10\n",
    "\n",
    "S_c = S[:, 0:3]\n",
    "S_m = S[:, 3:]\n",
    "v_m = np.array([v4,v5,v6])\n",
    "\n",
    "Sc_inv = np.linalg.inv(S_c)\n",
    "Sdot = Sc_inv.dot(S_m)\n",
    "\n",
    "# Assign the final solution here (replace _ with your final step)\n",
    "# v_c needs to be a numpy.array containing the three calculated fluxes v1-v3\n",
    "# Ideally you should get to v_c through a computation involving S and the\n",
    "# measured fluxes v4-v6 as covered in the lecture.\n",
    "v_c = (-1)*Sdot.dot(v_m)\n",
    "\n",
    "\n",
    "#Hints:\n",
    "# v_c = -S_c^-1 S_m v_m\n",
    "# `numpy.linalg.matrix_rank`, `numpy.linalg.inv`"
   ]
  }
 ],
 "metadata": {
  "kernelspec": {
   "display_name": "Python 3",
   "language": "python",
   "name": "python3"
  },
  "language_info": {
   "codemirror_mode": {
    "name": "ipython",
    "version": 3
   },
   "file_extension": ".py",
   "mimetype": "text/x-python",
   "name": "python",
   "nbconvert_exporter": "python",
   "pygments_lexer": "ipython3",
   "version": "3.8.5"
  }
 },
 "nbformat": 4,
 "nbformat_minor": 4
}
